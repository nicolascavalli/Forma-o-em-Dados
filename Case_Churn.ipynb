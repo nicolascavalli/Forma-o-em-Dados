{
  "metadata": {
    "kernelspec": {
      "language": "python",
      "display_name": "Python 3",
      "name": "python3"
    },
    "language_info": {
      "name": "python",
      "version": "3.10.13",
      "mimetype": "text/x-python",
      "codemirror_mode": {
        "name": "ipython",
        "version": 3
      },
      "pygments_lexer": "ipython3",
      "nbconvert_exporter": "python",
      "file_extension": ".py"
    },
    "kaggle": {
      "accelerator": "none",
      "dataSources": [
        {
          "sourceId": 18858,
          "sourceType": "datasetVersion",
          "datasetId": 13996
        }
      ],
      "dockerImageVersionId": 30673,
      "isInternetEnabled": false,
      "language": "python",
      "sourceType": "notebook",
      "isGpuEnabled": false
    },
    "colab": {
      "name": "Case_Churn",
      "provenance": [],
      "include_colab_link": true
    }
  },
  "nbformat_minor": 0,
  "nbformat": 4,
  "cells": [
    {
      "cell_type": "markdown",
      "metadata": {
        "id": "view-in-github",
        "colab_type": "text"
      },
      "source": [
        "<a href=\"https://colab.research.google.com/github/nicolascavalli/Forma-o-em-Dados/blob/main/Case_Churn.ipynb\" target=\"_parent\"><img src=\"https://colab.research.google.com/assets/colab-badge.svg\" alt=\"Open In Colab\"/></a>"
      ]
    },
    {
      "source": [
        "\n",
        "# IMPORTANT: RUN THIS CELL IN ORDER TO IMPORT YOUR KAGGLE DATA SOURCES\n",
        "# TO THE CORRECT LOCATION (/kaggle/input) IN YOUR NOTEBOOK,\n",
        "# THEN FEEL FREE TO DELETE THIS CELL.\n",
        "# NOTE: THIS NOTEBOOK ENVIRONMENT DIFFERS FROM KAGGLE'S PYTHON\n",
        "# ENVIRONMENT SO THERE MAY BE MISSING LIBRARIES USED BY YOUR\n",
        "# NOTEBOOK.\n",
        "\n",
        "import os\n",
        "import sys\n",
        "from tempfile import NamedTemporaryFile\n",
        "from urllib.request import urlopen\n",
        "from urllib.parse import unquote, urlparse\n",
        "from urllib.error import HTTPError\n",
        "from zipfile import ZipFile\n",
        "import tarfile\n",
        "import shutil\n",
        "\n",
        "CHUNK_SIZE = 40960\n",
        "DATA_SOURCE_MAPPING = 'telco-customer-churn:https%3A%2F%2Fstorage.googleapis.com%2Fkaggle-data-sets%2F13996%2F18858%2Fbundle%2Farchive.zip%3FX-Goog-Algorithm%3DGOOG4-RSA-SHA256%26X-Goog-Credential%3Dgcp-kaggle-com%2540kaggle-161607.iam.gserviceaccount.com%252F20240325%252Fauto%252Fstorage%252Fgoog4_request%26X-Goog-Date%3D20240325T220131Z%26X-Goog-Expires%3D259200%26X-Goog-SignedHeaders%3Dhost%26X-Goog-Signature%3D224c941e0d74f25f8af11c8e3c4a5d7bdecf459ac78da289c000606034d0f0d87cf4e854638b875f5faca8f581ed462af278312a07450f8415062c26bcb1f9336590889f6537954de047c1495c7e6c657a1c6f400f304311cd462d7f3db2c660bd47258593ac4ade7c902481a18981c7f883bb83342d1e34472704f92c75c5abd7850b40394c12577fb1558184259e159d24e6110f2f5793f65b728257416d7442a91d61348311fc625d192aaa71e177d885d8e6bcc724a5cf2dfc87711bf0811ac76e3898d0f3c23bdaee30b6f52a5db9769ba436ffc104b0ca9c94892f32e3b681cbbf84f2706b57db6b2a20a8d54f218b8acddeb6fd773cee0d27c1c03682'\n",
        "\n",
        "KAGGLE_INPUT_PATH='/kaggle/input'\n",
        "KAGGLE_WORKING_PATH='/kaggle/working'\n",
        "KAGGLE_SYMLINK='kaggle'\n",
        "\n",
        "!umount /kaggle/input/ 2> /dev/null\n",
        "shutil.rmtree('/kaggle/input', ignore_errors=True)\n",
        "os.makedirs(KAGGLE_INPUT_PATH, 0o777, exist_ok=True)\n",
        "os.makedirs(KAGGLE_WORKING_PATH, 0o777, exist_ok=True)\n",
        "\n",
        "try:\n",
        "  os.symlink(KAGGLE_INPUT_PATH, os.path.join(\"..\", 'input'), target_is_directory=True)\n",
        "except FileExistsError:\n",
        "  pass\n",
        "try:\n",
        "  os.symlink(KAGGLE_WORKING_PATH, os.path.join(\"..\", 'working'), target_is_directory=True)\n",
        "except FileExistsError:\n",
        "  pass\n",
        "\n",
        "for data_source_mapping in DATA_SOURCE_MAPPING.split(','):\n",
        "    directory, download_url_encoded = data_source_mapping.split(':')\n",
        "    download_url = unquote(download_url_encoded)\n",
        "    filename = urlparse(download_url).path\n",
        "    destination_path = os.path.join(KAGGLE_INPUT_PATH, directory)\n",
        "    try:\n",
        "        with urlopen(download_url) as fileres, NamedTemporaryFile() as tfile:\n",
        "            total_length = fileres.headers['content-length']\n",
        "            print(f'Downloading {directory}, {total_length} bytes compressed')\n",
        "            dl = 0\n",
        "            data = fileres.read(CHUNK_SIZE)\n",
        "            while len(data) > 0:\n",
        "                dl += len(data)\n",
        "                tfile.write(data)\n",
        "                done = int(50 * dl / int(total_length))\n",
        "                sys.stdout.write(f\"\\r[{'=' * done}{' ' * (50-done)}] {dl} bytes downloaded\")\n",
        "                sys.stdout.flush()\n",
        "                data = fileres.read(CHUNK_SIZE)\n",
        "            if filename.endswith('.zip'):\n",
        "              with ZipFile(tfile) as zfile:\n",
        "                zfile.extractall(destination_path)\n",
        "            else:\n",
        "              with tarfile.open(tfile.name) as tarfile:\n",
        "                tarfile.extractall(destination_path)\n",
        "            print(f'\\nDownloaded and uncompressed: {directory}')\n",
        "    except HTTPError as e:\n",
        "        print(f'Failed to load (likely expired) {download_url} to path {destination_path}')\n",
        "        continue\n",
        "    except OSError as e:\n",
        "        print(f'Failed to load {download_url} to path {destination_path}')\n",
        "        continue\n",
        "\n",
        "print('Data source import complete.')\n"
      ],
      "metadata": {
        "id": "5foEGHpxogyR"
      },
      "cell_type": "code",
      "outputs": [],
      "execution_count": null
    },
    {
      "cell_type": "code",
      "source": [
        "# This Python 3 environment comes with many helpful analytics libraries installed\n",
        "# It is defined by the kaggle/python Docker image: https://github.com/kaggle/docker-python\n",
        "# For example, here's several helpful packages to load\n",
        "\n",
        "import numpy as np # linear algebra\n",
        "import pandas as pd # data processing, CSV file I/O (e.g. pd.read_csv)\n",
        "\n",
        "# Input data files are available in the read-only \"../input/\" directory\n",
        "# For example, running this (by clicking run or pressing Shift+Enter) will list all files under the input directory\n",
        "\n",
        "import os\n",
        "for dirname, _, filenames in os.walk('/kaggle/input'):\n",
        "    for filename in filenames:\n",
        "        print(os.path.join(dirname, filename))\n",
        "\n",
        "# You can write up to 20GB to the current directory (/kaggle/working/) that gets preserved as output when you create a version using \"Save & Run All\"\n",
        "# You can also write temporary files to /kaggle/temp/, but they won't be saved outside of the current session"
      ],
      "metadata": {
        "_uuid": "8f2839f25d086af736a60e9eeb907d3b93b6e0e5",
        "_cell_guid": "b1076dfc-b9ad-4769-8c92-a6c4dae69d19",
        "execution": {
          "iopub.status.busy": "2024-03-25T20:37:56.550442Z",
          "iopub.execute_input": "2024-03-25T20:37:56.550883Z",
          "iopub.status.idle": "2024-03-25T20:37:56.5685Z",
          "shell.execute_reply.started": "2024-03-25T20:37:56.550852Z",
          "shell.execute_reply": "2024-03-25T20:37:56.567346Z"
        },
        "trusted": true,
        "id": "_LUKWPAjogyT"
      },
      "execution_count": null,
      "outputs": []
    },
    {
      "cell_type": "code",
      "source": [
        "#Libraries\n",
        "import pandas as pd\n",
        "import numpy as np\n",
        "import seaborn as sns\n",
        "import matplotlib.pyplot as plt\n",
        "from sklearn.preprocessing import StandardScaler, scale, MinMaxScaler, LabelEncoder\n",
        "from sklearn.model_selection import train_test_split, cross_validate, GridSearchCV"
      ],
      "metadata": {
        "execution": {
          "iopub.status.busy": "2024-03-25T20:37:56.571175Z",
          "iopub.execute_input": "2024-03-25T20:37:56.572025Z",
          "iopub.status.idle": "2024-03-25T20:37:56.579284Z",
          "shell.execute_reply.started": "2024-03-25T20:37:56.571979Z",
          "shell.execute_reply": "2024-03-25T20:37:56.577761Z"
        },
        "trusted": true,
        "id": "yc0DrLAKogyU"
      },
      "execution_count": null,
      "outputs": []
    },
    {
      "cell_type": "code",
      "source": [
        "#Reading the file and visualize the DataFrame\n",
        "df = pd.read_csv('/kaggle/input/telco-customer-churn/WA_Fn-UseC_-Telco-Customer-Churn.csv')\n",
        "df.head()"
      ],
      "metadata": {
        "execution": {
          "iopub.status.busy": "2024-03-25T20:37:56.580772Z",
          "iopub.execute_input": "2024-03-25T20:37:56.581393Z",
          "iopub.status.idle": "2024-03-25T20:37:56.65292Z",
          "shell.execute_reply.started": "2024-03-25T20:37:56.581359Z",
          "shell.execute_reply": "2024-03-25T20:37:56.65193Z"
        },
        "trusted": true,
        "id": "MZ6amYKGogyU"
      },
      "execution_count": null,
      "outputs": []
    },
    {
      "cell_type": "code",
      "source": [
        "#Dataframe shape\n",
        "df.shape"
      ],
      "metadata": {
        "execution": {
          "iopub.status.busy": "2024-03-25T20:37:56.654251Z",
          "iopub.execute_input": "2024-03-25T20:37:56.654578Z",
          "iopub.status.idle": "2024-03-25T20:37:56.661536Z",
          "shell.execute_reply.started": "2024-03-25T20:37:56.654551Z",
          "shell.execute_reply": "2024-03-25T20:37:56.660361Z"
        },
        "trusted": true,
        "id": "bzlOOGMRogyU"
      },
      "execution_count": null,
      "outputs": []
    },
    {
      "cell_type": "code",
      "source": [
        "#Dataframe Columns Types\n",
        "df.info()"
      ],
      "metadata": {
        "execution": {
          "iopub.status.busy": "2024-03-25T20:37:56.665539Z",
          "iopub.execute_input": "2024-03-25T20:37:56.666531Z",
          "iopub.status.idle": "2024-03-25T20:37:56.69792Z",
          "shell.execute_reply.started": "2024-03-25T20:37:56.66649Z",
          "shell.execute_reply": "2024-03-25T20:37:56.697085Z"
        },
        "trusted": true,
        "id": "hj45NuZpogyU"
      },
      "execution_count": null,
      "outputs": []
    },
    {
      "cell_type": "markdown",
      "source": [
        "Notice that there aren't missing values."
      ],
      "metadata": {
        "id": "gCXTmMUAogyU"
      }
    },
    {
      "cell_type": "code",
      "source": [
        "#Dropping CustomerID Column\n",
        "df.drop(columns='customerID', inplace=True)\n",
        "df.head()"
      ],
      "metadata": {
        "execution": {
          "iopub.status.busy": "2024-03-25T20:37:56.699214Z",
          "iopub.execute_input": "2024-03-25T20:37:56.700107Z",
          "iopub.status.idle": "2024-03-25T20:37:56.722853Z",
          "shell.execute_reply.started": "2024-03-25T20:37:56.700077Z",
          "shell.execute_reply": "2024-03-25T20:37:56.721809Z"
        },
        "trusted": true,
        "id": "kqcAN80RogyW"
      },
      "execution_count": null,
      "outputs": []
    },
    {
      "cell_type": "markdown",
      "source": [
        "Why drop CustomerID Column?\n",
        "> For the purposes, this column isn't an attribute that impact in the target. So there's no need to keep it."
      ],
      "metadata": {
        "id": "n_vaJowfogyW"
      }
    },
    {
      "cell_type": "code",
      "source": [
        "#Convert TotalCharges Column to float\n",
        "df['TotalCharges'].replace(' ', 0, inplace=True)\n",
        "df['TotalCharges'] = df['TotalCharges'].astype(float)\n",
        "df.info()"
      ],
      "metadata": {
        "execution": {
          "iopub.status.busy": "2024-03-25T20:37:56.724065Z",
          "iopub.execute_input": "2024-03-25T20:37:56.724376Z",
          "iopub.status.idle": "2024-03-25T20:37:56.755338Z",
          "shell.execute_reply.started": "2024-03-25T20:37:56.724349Z",
          "shell.execute_reply": "2024-03-25T20:37:56.753838Z"
        },
        "trusted": true,
        "id": "0t91EzDMogyW"
      },
      "execution_count": null,
      "outputs": []
    },
    {
      "cell_type": "code",
      "source": [
        "#Verifying target's distribution\n",
        "df['Churn'].value_counts(normalize=True)"
      ],
      "metadata": {
        "execution": {
          "iopub.status.busy": "2024-03-25T20:37:56.757353Z",
          "iopub.execute_input": "2024-03-25T20:37:56.757931Z",
          "iopub.status.idle": "2024-03-25T20:37:56.770179Z",
          "shell.execute_reply.started": "2024-03-25T20:37:56.757889Z",
          "shell.execute_reply": "2024-03-25T20:37:56.768991Z"
        },
        "trusted": true,
        "id": "D93MnoCTogyW"
      },
      "execution_count": null,
      "outputs": []
    },
    {
      "cell_type": "code",
      "source": [
        "#Verifying target's distribution x Atributtes\n",
        "sns.catplot(data=df, x='Churn', y='MonthlyCharges')"
      ],
      "metadata": {
        "execution": {
          "iopub.status.busy": "2024-03-25T20:37:56.771979Z",
          "iopub.execute_input": "2024-03-25T20:37:56.772348Z",
          "iopub.status.idle": "2024-03-25T20:37:57.193662Z",
          "shell.execute_reply.started": "2024-03-25T20:37:56.772317Z",
          "shell.execute_reply": "2024-03-25T20:37:57.192352Z"
        },
        "trusted": true,
        "id": "EH-mt2ZQogyX"
      },
      "execution_count": null,
      "outputs": []
    },
    {
      "cell_type": "code",
      "source": [
        "sns.catplot(data=df, x='Churn', y='TotalCharges')"
      ],
      "metadata": {
        "execution": {
          "iopub.status.busy": "2024-03-25T20:37:57.195038Z",
          "iopub.execute_input": "2024-03-25T20:37:57.195381Z",
          "iopub.status.idle": "2024-03-25T20:37:57.609039Z",
          "shell.execute_reply.started": "2024-03-25T20:37:57.195352Z",
          "shell.execute_reply": "2024-03-25T20:37:57.607977Z"
        },
        "trusted": true,
        "id": "OEDy69IOogyX"
      },
      "execution_count": null,
      "outputs": []
    },
    {
      "cell_type": "code",
      "source": [
        "#Verifying outliers for Charges Columns\n",
        "sns.catplot(data=df, x='Contract', y='MonthlyCharges', hue='Churn', kind='box')"
      ],
      "metadata": {
        "execution": {
          "iopub.status.busy": "2024-03-25T20:37:57.610203Z",
          "iopub.execute_input": "2024-03-25T20:37:57.610519Z",
          "iopub.status.idle": "2024-03-25T20:37:58.179306Z",
          "shell.execute_reply.started": "2024-03-25T20:37:57.610492Z",
          "shell.execute_reply": "2024-03-25T20:37:58.178149Z"
        },
        "trusted": true,
        "id": "d-QPvQcWogyX"
      },
      "execution_count": null,
      "outputs": []
    },
    {
      "cell_type": "code",
      "source": [
        "sns.catplot(data=df, x='Contract', y='TotalCharges', hue='Churn', kind='box')"
      ],
      "metadata": {
        "execution": {
          "iopub.status.busy": "2024-03-25T20:37:58.18097Z",
          "iopub.execute_input": "2024-03-25T20:37:58.181437Z",
          "iopub.status.idle": "2024-03-25T20:37:58.7435Z",
          "shell.execute_reply.started": "2024-03-25T20:37:58.181398Z",
          "shell.execute_reply": "2024-03-25T20:37:58.742056Z"
        },
        "trusted": true,
        "id": "t3tvOUrNogyX"
      },
      "execution_count": null,
      "outputs": []
    },
    {
      "cell_type": "code",
      "source": [
        "sns.catplot(data=df, x='Contract', y='MonthlyCharges', hue='Churn', kind='violin')"
      ],
      "metadata": {
        "execution": {
          "iopub.status.busy": "2024-03-25T20:37:58.745339Z",
          "iopub.execute_input": "2024-03-25T20:37:58.74586Z",
          "iopub.status.idle": "2024-03-25T20:37:59.555938Z",
          "shell.execute_reply.started": "2024-03-25T20:37:58.745821Z",
          "shell.execute_reply": "2024-03-25T20:37:59.554789Z"
        },
        "trusted": true,
        "id": "_c71TwmkogyX"
      },
      "execution_count": null,
      "outputs": []
    },
    {
      "cell_type": "code",
      "source": [
        "sns.catplot(data=df, x='Contract', y='tenure', hue='Churn', kind='violin')"
      ],
      "metadata": {
        "execution": {
          "iopub.status.busy": "2024-03-25T20:37:59.560321Z",
          "iopub.execute_input": "2024-03-25T20:37:59.560691Z",
          "iopub.status.idle": "2024-03-25T20:38:00.34117Z",
          "shell.execute_reply.started": "2024-03-25T20:37:59.560659Z",
          "shell.execute_reply": "2024-03-25T20:38:00.34Z"
        },
        "trusted": true,
        "id": "l9GkySWLogyX"
      },
      "execution_count": null,
      "outputs": []
    },
    {
      "cell_type": "code",
      "source": [
        "#Analysing tenure column distribuiton\n",
        "sns.histplot(data=df, x='tenure', hue='Churn');"
      ],
      "metadata": {
        "execution": {
          "iopub.status.busy": "2024-03-25T20:38:00.342998Z",
          "iopub.execute_input": "2024-03-25T20:38:00.343354Z",
          "iopub.status.idle": "2024-03-25T20:38:00.823275Z",
          "shell.execute_reply.started": "2024-03-25T20:38:00.343323Z",
          "shell.execute_reply": "2024-03-25T20:38:00.822118Z"
        },
        "trusted": true,
        "id": "NqstRFspogyY"
      },
      "execution_count": null,
      "outputs": []
    },
    {
      "cell_type": "code",
      "source": [
        "sns.catplot(data=df, x='Contract', y='tenure', hue='Churn', kind='violin')"
      ],
      "metadata": {
        "execution": {
          "iopub.status.busy": "2024-03-25T20:38:00.824818Z",
          "iopub.execute_input": "2024-03-25T20:38:00.825848Z",
          "iopub.status.idle": "2024-03-25T20:38:01.595561Z",
          "shell.execute_reply.started": "2024-03-25T20:38:00.825803Z",
          "shell.execute_reply": "2024-03-25T20:38:01.594357Z"
        },
        "trusted": true,
        "id": "7UXk71tNogyY"
      },
      "execution_count": null,
      "outputs": []
    },
    {
      "cell_type": "code",
      "source": [
        "#Analysing PaymentMethod Column distribution\n",
        "sns.catplot(data=df, x='PaymentMethod', y='MonthlyCharges', hue='Churn', kind='violin')"
      ],
      "metadata": {
        "execution": {
          "iopub.status.busy": "2024-03-25T20:38:01.597029Z",
          "iopub.execute_input": "2024-03-25T20:38:01.597891Z",
          "iopub.status.idle": "2024-03-25T20:38:02.473951Z",
          "shell.execute_reply.started": "2024-03-25T20:38:01.597848Z",
          "shell.execute_reply": "2024-03-25T20:38:02.472762Z"
        },
        "trusted": true,
        "id": "snhhznpsogyY"
      },
      "execution_count": null,
      "outputs": []
    },
    {
      "cell_type": "code",
      "source": [
        "#Applying LabelEnconder in the features\n",
        "le = LabelEncoder()\n",
        "var_features = df.drop(columns=['SeniorCitizen', 'tenure', 'MonthlyCharges', 'TotalCharges'])\n",
        "num_features = df[['SeniorCitizen', 'tenure', 'MonthlyCharges', 'TotalCharges']]"
      ],
      "metadata": {
        "execution": {
          "iopub.status.busy": "2024-03-25T20:38:02.475843Z",
          "iopub.execute_input": "2024-03-25T20:38:02.476612Z",
          "iopub.status.idle": "2024-03-25T20:38:02.483848Z",
          "shell.execute_reply.started": "2024-03-25T20:38:02.476577Z",
          "shell.execute_reply": "2024-03-25T20:38:02.482953Z"
        },
        "trusted": true,
        "id": "5_R7020pogyY"
      },
      "execution_count": null,
      "outputs": []
    },
    {
      "cell_type": "code",
      "source": [
        "var_features = var_features.apply(le.fit_transform)\n",
        "df = pd.concat([var_features, num_features], axis=1)\n",
        "df.head()"
      ],
      "metadata": {
        "execution": {
          "iopub.status.busy": "2024-03-25T20:38:02.485076Z",
          "iopub.execute_input": "2024-03-25T20:38:02.486234Z",
          "iopub.status.idle": "2024-03-25T20:38:02.548997Z",
          "shell.execute_reply.started": "2024-03-25T20:38:02.48619Z",
          "shell.execute_reply": "2024-03-25T20:38:02.548063Z"
        },
        "trusted": true,
        "id": "OsIAiI3JogyY"
      },
      "execution_count": null,
      "outputs": []
    },
    {
      "cell_type": "code",
      "source": [
        "df.describe(percentiles=[0.01, 0.1, 0.25, 0.5, 0.75, 0.9, 0.99])"
      ],
      "metadata": {
        "execution": {
          "iopub.status.busy": "2024-03-25T20:38:02.550542Z",
          "iopub.execute_input": "2024-03-25T20:38:02.551216Z",
          "iopub.status.idle": "2024-03-25T20:38:02.629145Z",
          "shell.execute_reply.started": "2024-03-25T20:38:02.551182Z",
          "shell.execute_reply": "2024-03-25T20:38:02.628254Z"
        },
        "trusted": true,
        "id": "VRW2POq-ogyY"
      },
      "execution_count": null,
      "outputs": []
    },
    {
      "cell_type": "code",
      "source": [
        "#Create a function to detect outliers\n",
        "def is_outlier(array, extreme=False):\n",
        "  \"\"\"Custom function to identify outliers in an array\"\"\"\n",
        "  q1, q3 = np.quantile(array, [.25, .75])\n",
        "  iqr = q3 - q1\n",
        "\n",
        "  factor = 3. if extreme else 1.5\n",
        "  upper_outlier = q3 + factor * iqr\n",
        "  lower_outlier = q1 - factor * iqr\n",
        "\n",
        "  return (array < lower_outlier) | (array > upper_outlier)"
      ],
      "metadata": {
        "execution": {
          "iopub.status.busy": "2024-03-25T20:38:02.630504Z",
          "iopub.execute_input": "2024-03-25T20:38:02.631515Z",
          "iopub.status.idle": "2024-03-25T20:38:02.638229Z",
          "shell.execute_reply.started": "2024-03-25T20:38:02.631481Z",
          "shell.execute_reply": "2024-03-25T20:38:02.63699Z"
        },
        "trusted": true,
        "id": "gqtXXEAaogyY"
      },
      "execution_count": null,
      "outputs": []
    },
    {
      "cell_type": "code",
      "source": [
        "#Applying the function in the original numeric features\n",
        "df[['tenure', 'MonthlyCharges', 'TotalCharges']].apply(is_outlier).sum()"
      ],
      "metadata": {
        "execution": {
          "iopub.status.busy": "2024-03-25T20:38:02.63973Z",
          "iopub.execute_input": "2024-03-25T20:38:02.640405Z",
          "iopub.status.idle": "2024-03-25T20:38:02.657428Z",
          "shell.execute_reply.started": "2024-03-25T20:38:02.640375Z",
          "shell.execute_reply": "2024-03-25T20:38:02.656168Z"
        },
        "trusted": true,
        "id": "JYm6HDyQogyY"
      },
      "execution_count": null,
      "outputs": []
    },
    {
      "cell_type": "code",
      "source": [
        "#Splitting dataset\n",
        "X = df.drop(columns='Churn')\n",
        "y = df[['Churn']]"
      ],
      "metadata": {
        "execution": {
          "iopub.status.busy": "2024-03-25T20:42:19.289776Z",
          "iopub.execute_input": "2024-03-25T20:42:19.290847Z",
          "iopub.status.idle": "2024-03-25T20:42:19.315928Z",
          "shell.execute_reply.started": "2024-03-25T20:42:19.29079Z",
          "shell.execute_reply": "2024-03-25T20:42:19.314797Z"
        },
        "trusted": true,
        "id": "9pvXP8VuogyZ"
      },
      "execution_count": null,
      "outputs": []
    },
    {
      "cell_type": "code",
      "source": [
        "#Normalizing X\n",
        "std_scaler = StandardScaler()\n",
        "X = pd.DataFrame(std_scaler.fit_transform(X), columns=X.columns)\n",
        "X"
      ],
      "metadata": {
        "execution": {
          "iopub.status.busy": "2024-03-25T20:43:46.633232Z",
          "iopub.execute_input": "2024-03-25T20:43:46.633834Z",
          "iopub.status.idle": "2024-03-25T20:43:46.671707Z",
          "shell.execute_reply.started": "2024-03-25T20:43:46.633798Z",
          "shell.execute_reply": "2024-03-25T20:43:46.670505Z"
        },
        "trusted": true,
        "id": "BDzA82fIogyZ"
      },
      "execution_count": null,
      "outputs": []
    },
    {
      "cell_type": "code",
      "source": [
        "#Splitting dataset in train and test\n",
        "X_train, X_test, y_train, y_test = train_test_split(X, y, test_size = 0.2, stratify=y, random_state=42)"
      ],
      "metadata": {
        "execution": {
          "iopub.status.busy": "2024-03-25T20:44:58.189101Z",
          "iopub.execute_input": "2024-03-25T20:44:58.189575Z",
          "iopub.status.idle": "2024-03-25T20:44:58.248153Z",
          "shell.execute_reply.started": "2024-03-25T20:44:58.189538Z",
          "shell.execute_reply": "2024-03-25T20:44:58.247108Z"
        },
        "trusted": true,
        "id": "EbEmu1y2ogyZ"
      },
      "execution_count": null,
      "outputs": []
    },
    {
      "cell_type": "markdown",
      "source": [
        "### Modelling"
      ],
      "metadata": {
        "id": "Xa2tX2TeogyZ"
      }
    },
    {
      "cell_type": "markdown",
      "source": [
        "Here, we're gonna train and test some models to verify which is the best model to accomplish our goal(Predict Churning in dataset)"
      ],
      "metadata": {
        "id": "oecQeELcogyZ"
      }
    },
    {
      "cell_type": "markdown",
      "source": [
        "#### Logistic Regression"
      ],
      "metadata": {
        "id": "DRKAkZhfogya"
      }
    },
    {
      "cell_type": "code",
      "source": [
        "#Trainning Logistic Regression Model\n",
        "from sklearn.linear_model import LogisticRegression\n",
        "lr = LogisticRegression()\n",
        "lr.fit(X_train, y_train)"
      ],
      "metadata": {
        "execution": {
          "iopub.status.busy": "2024-03-25T20:50:48.508731Z",
          "iopub.execute_input": "2024-03-25T20:50:48.509211Z",
          "iopub.status.idle": "2024-03-25T20:50:48.564853Z",
          "shell.execute_reply.started": "2024-03-25T20:50:48.509176Z",
          "shell.execute_reply": "2024-03-25T20:50:48.56331Z"
        },
        "trusted": true,
        "id": "rvpZ9VcEogya"
      },
      "execution_count": null,
      "outputs": []
    },
    {
      "cell_type": "code",
      "source": [
        "#Predicting Results\n",
        "lr_pred = lr.predict(X_test)"
      ],
      "metadata": {
        "execution": {
          "iopub.status.busy": "2024-03-25T20:54:12.448175Z",
          "iopub.execute_input": "2024-03-25T20:54:12.448639Z",
          "iopub.status.idle": "2024-03-25T20:54:12.458794Z",
          "shell.execute_reply.started": "2024-03-25T20:54:12.448607Z",
          "shell.execute_reply": "2024-03-25T20:54:12.457361Z"
        },
        "trusted": true,
        "id": "sUtuNG2Eogya"
      },
      "execution_count": null,
      "outputs": []
    },
    {
      "cell_type": "code",
      "source": [
        "#Analysing the train datasets score\n",
        "lr.score(X_train, y_train)"
      ],
      "metadata": {
        "execution": {
          "iopub.status.busy": "2024-03-25T20:55:22.313761Z",
          "iopub.execute_input": "2024-03-25T20:55:22.31418Z",
          "iopub.status.idle": "2024-03-25T20:55:22.334363Z",
          "shell.execute_reply.started": "2024-03-25T20:55:22.314148Z",
          "shell.execute_reply": "2024-03-25T20:55:22.333195Z"
        },
        "trusted": true,
        "id": "3W-80aZMogya"
      },
      "execution_count": null,
      "outputs": []
    },
    {
      "cell_type": "code",
      "source": [
        "#Visualize some metrics\n",
        "from sklearn.metrics import accuracy_score, balanced_accuracy_score, f1_score, roc_auc_score\n",
        "print(f'Accuracy: {accuracy_score(y_test, lr_pred):.2f}')\n",
        "print(f'Balanced Accuracy: {balanced_accuracy_score(y_test, lr_pred):.2f}')\n",
        "print(f'F1 Score: {f1_score(y_test, lr_pred):.2f}')\n",
        "print(f'ROC_AUC: {roc_auc_score(y_test, lr_pred):.2f}')"
      ],
      "metadata": {
        "execution": {
          "iopub.status.busy": "2024-03-25T21:03:30.866934Z",
          "iopub.execute_input": "2024-03-25T21:03:30.867711Z",
          "iopub.status.idle": "2024-03-25T21:03:30.899393Z",
          "shell.execute_reply.started": "2024-03-25T21:03:30.867677Z",
          "shell.execute_reply": "2024-03-25T21:03:30.898124Z"
        },
        "trusted": true,
        "id": "USEKzVDQogya"
      },
      "execution_count": null,
      "outputs": []
    },
    {
      "cell_type": "markdown",
      "source": [
        "#### Decision Tree Classifier"
      ],
      "metadata": {
        "id": "f5uz72wdogya"
      }
    },
    {
      "cell_type": "code",
      "source": [
        "from sklearn.tree import DecisionTreeClassifier\n",
        "dtc = DecisionTreeClassifier()\n",
        "dtc.fit(X_train, y_train)"
      ],
      "metadata": {
        "execution": {
          "iopub.status.busy": "2024-03-25T21:06:57.497304Z",
          "iopub.execute_input": "2024-03-25T21:06:57.497768Z",
          "iopub.status.idle": "2024-03-25T21:06:57.817737Z",
          "shell.execute_reply.started": "2024-03-25T21:06:57.497729Z",
          "shell.execute_reply": "2024-03-25T21:06:57.816834Z"
        },
        "trusted": true,
        "id": "d01E2q9uogyb"
      },
      "execution_count": null,
      "outputs": []
    },
    {
      "cell_type": "code",
      "source": [
        "dtc.score(X_train, y_train)"
      ],
      "metadata": {
        "execution": {
          "iopub.status.busy": "2024-03-25T21:07:54.985671Z",
          "iopub.execute_input": "2024-03-25T21:07:54.986783Z",
          "iopub.status.idle": "2024-03-25T21:07:55.003026Z",
          "shell.execute_reply.started": "2024-03-25T21:07:54.986743Z",
          "shell.execute_reply": "2024-03-25T21:07:55.001671Z"
        },
        "trusted": true,
        "id": "qNtpsxh1ogyb"
      },
      "execution_count": null,
      "outputs": []
    },
    {
      "cell_type": "code",
      "source": [
        "dtc_pred = dtc.predict(X_test)"
      ],
      "metadata": {
        "execution": {
          "iopub.status.busy": "2024-03-25T21:08:27.311501Z",
          "iopub.execute_input": "2024-03-25T21:08:27.312326Z",
          "iopub.status.idle": "2024-03-25T21:08:27.319932Z",
          "shell.execute_reply.started": "2024-03-25T21:08:27.31229Z",
          "shell.execute_reply": "2024-03-25T21:08:27.318773Z"
        },
        "trusted": true,
        "id": "Dut21jomogyb"
      },
      "execution_count": null,
      "outputs": []
    },
    {
      "cell_type": "code",
      "source": [
        "print(f'Accuracy: {accuracy_score(y_test, dtc_pred):.2f}')\n",
        "print(f'Balanced Accuracy: {balanced_accuracy_score(y_test, dtc_pred):.2f}')\n",
        "print(f'F1 Score: {f1_score(y_test, dtc_pred):.2f}')\n",
        "print(f'ROC_AUC: {roc_auc_score(y_test, dtc_pred):.2f}')"
      ],
      "metadata": {
        "execution": {
          "iopub.status.busy": "2024-03-25T21:09:03.373877Z",
          "iopub.execute_input": "2024-03-25T21:09:03.374338Z",
          "iopub.status.idle": "2024-03-25T21:09:03.405357Z",
          "shell.execute_reply.started": "2024-03-25T21:09:03.37429Z",
          "shell.execute_reply": "2024-03-25T21:09:03.404219Z"
        },
        "trusted": true,
        "id": "3UAcf0_hogyb"
      },
      "execution_count": null,
      "outputs": []
    },
    {
      "cell_type": "markdown",
      "source": [
        "#### Random Forest"
      ],
      "metadata": {
        "id": "2RY3gNDMogyb"
      }
    },
    {
      "cell_type": "code",
      "source": [
        "from sklearn.ensemble import RandomForestClassifier\n",
        "rfc = RandomForestClassifier()\n",
        "rfc.fit(X_train, y_train)"
      ],
      "metadata": {
        "execution": {
          "iopub.status.busy": "2024-03-25T21:11:07.679805Z",
          "iopub.execute_input": "2024-03-25T21:11:07.680328Z",
          "iopub.status.idle": "2024-03-25T21:11:08.64286Z",
          "shell.execute_reply.started": "2024-03-25T21:11:07.680289Z",
          "shell.execute_reply": "2024-03-25T21:11:08.641643Z"
        },
        "trusted": true,
        "id": "ZKms-C_Uogyb"
      },
      "execution_count": null,
      "outputs": []
    },
    {
      "cell_type": "code",
      "source": [
        "rfc.score(X_test, y_test)"
      ],
      "metadata": {
        "execution": {
          "iopub.status.busy": "2024-03-25T21:11:40.429649Z",
          "iopub.execute_input": "2024-03-25T21:11:40.430699Z",
          "iopub.status.idle": "2024-03-25T21:11:40.481591Z",
          "shell.execute_reply.started": "2024-03-25T21:11:40.430649Z",
          "shell.execute_reply": "2024-03-25T21:11:40.480361Z"
        },
        "trusted": true,
        "id": "TOSGkdWDogyc"
      },
      "execution_count": null,
      "outputs": []
    },
    {
      "cell_type": "code",
      "source": [
        "rfc_pred = rfc.predict(X_test)\n",
        "print(f'Accuracy: {accuracy_score(y_test, rfc_pred):.2f}')\n",
        "print(f'Balanced Accuracy: {balanced_accuracy_score(y_test, rfc_pred):.2f}')\n",
        "print(f'F1 Score: {f1_score(y_test, rfc_pred):.2f}')\n",
        "print(f'ROC_AUC: {roc_auc_score(y_test, rfc_pred):.2f}')"
      ],
      "metadata": {
        "execution": {
          "iopub.status.busy": "2024-03-25T21:13:07.202294Z",
          "iopub.execute_input": "2024-03-25T21:13:07.202712Z",
          "iopub.status.idle": "2024-03-25T21:13:07.272132Z",
          "shell.execute_reply.started": "2024-03-25T21:13:07.202678Z",
          "shell.execute_reply": "2024-03-25T21:13:07.27126Z"
        },
        "trusted": true,
        "id": "bF9jaTXVogyc"
      },
      "execution_count": null,
      "outputs": []
    },
    {
      "cell_type": "markdown",
      "source": [
        "#### SVM"
      ],
      "metadata": {
        "id": "-zIeW4uEogyc"
      }
    },
    {
      "cell_type": "code",
      "source": [
        "from sklearn.svm import SVC\n",
        "svc = SVC()\n",
        "svc.fit(X_train, y_train)"
      ],
      "metadata": {
        "execution": {
          "iopub.status.busy": "2024-03-25T21:15:58.885399Z",
          "iopub.execute_input": "2024-03-25T21:15:58.886147Z",
          "iopub.status.idle": "2024-03-25T21:15:59.858472Z",
          "shell.execute_reply.started": "2024-03-25T21:15:58.886111Z",
          "shell.execute_reply": "2024-03-25T21:15:59.857375Z"
        },
        "trusted": true,
        "id": "RRBJrg4gogyc"
      },
      "execution_count": null,
      "outputs": []
    },
    {
      "cell_type": "code",
      "source": [
        "svc.score(X_test, y_test)"
      ],
      "metadata": {
        "execution": {
          "iopub.status.busy": "2024-03-25T21:16:39.765406Z",
          "iopub.execute_input": "2024-03-25T21:16:39.765848Z",
          "iopub.status.idle": "2024-03-25T21:16:40.007835Z",
          "shell.execute_reply.started": "2024-03-25T21:16:39.765795Z",
          "shell.execute_reply": "2024-03-25T21:16:40.006604Z"
        },
        "trusted": true,
        "id": "9SPcBtRJogyc"
      },
      "execution_count": null,
      "outputs": []
    },
    {
      "cell_type": "code",
      "source": [
        "svc_pred = svc.predict(X_test)\n",
        "print(f'Accuracy: {accuracy_score(y_test, svc_pred):.2f}')\n",
        "print(f'Balanced Accuracy: {balanced_accuracy_score(y_test, svc_pred):.2f}')\n",
        "print(f'F1 Score: {f1_score(y_test, svc_pred):.2f}')\n",
        "print(f'ROC_AUC: {roc_auc_score(y_test, svc_pred):.2f}')"
      ],
      "metadata": {
        "execution": {
          "iopub.status.busy": "2024-03-25T21:17:35.469634Z",
          "iopub.execute_input": "2024-03-25T21:17:35.470077Z",
          "iopub.status.idle": "2024-03-25T21:17:35.725579Z",
          "shell.execute_reply.started": "2024-03-25T21:17:35.470048Z",
          "shell.execute_reply": "2024-03-25T21:17:35.72445Z"
        },
        "trusted": true,
        "id": "6QJCmiNEogyc"
      },
      "execution_count": null,
      "outputs": []
    },
    {
      "cell_type": "markdown",
      "source": [
        "#### Neural Network"
      ],
      "metadata": {
        "id": "zcBT3aJxogyc"
      }
    },
    {
      "cell_type": "code",
      "source": [
        "from sklearn.neural_network import MLPClassifier\n",
        "mlp = MLPClassifier()\n",
        "mlp.fit(X_train, y_train)\n"
      ],
      "metadata": {
        "execution": {
          "iopub.status.busy": "2024-03-25T21:21:02.703116Z",
          "iopub.execute_input": "2024-03-25T21:21:02.703586Z",
          "iopub.status.idle": "2024-03-25T21:21:12.583955Z",
          "shell.execute_reply.started": "2024-03-25T21:21:02.703553Z",
          "shell.execute_reply": "2024-03-25T21:21:12.582491Z"
        },
        "trusted": true,
        "id": "Hp1R7xGGogyc"
      },
      "execution_count": null,
      "outputs": []
    },
    {
      "cell_type": "code",
      "source": [
        "mlp.score(X_test, y_test)"
      ],
      "metadata": {
        "execution": {
          "iopub.status.busy": "2024-03-25T21:21:27.212288Z",
          "iopub.execute_input": "2024-03-25T21:21:27.212717Z",
          "iopub.status.idle": "2024-03-25T21:21:27.232938Z",
          "shell.execute_reply.started": "2024-03-25T21:21:27.212683Z",
          "shell.execute_reply": "2024-03-25T21:21:27.231782Z"
        },
        "trusted": true,
        "id": "wFM9rzvgogyc"
      },
      "execution_count": null,
      "outputs": []
    },
    {
      "cell_type": "code",
      "source": [
        "mlp_pred = mlp.predict(X_test)\n",
        "print(f'Accuracy: {accuracy_score(y_test, mlp_pred):.2f}')\n",
        "print(f'Balanced Accuracy: {balanced_accuracy_score(y_test, mlp_pred):.2f}')\n",
        "print(f'F1 Score: {f1_score(y_test, mlp_pred):.2f}')\n",
        "print(f'ROC_AUC: {roc_auc_score(y_test, mlp_pred):.2f}')"
      ],
      "metadata": {
        "execution": {
          "iopub.status.busy": "2024-03-25T21:22:17.602342Z",
          "iopub.execute_input": "2024-03-25T21:22:17.602818Z",
          "iopub.status.idle": "2024-03-25T21:22:17.663615Z",
          "shell.execute_reply.started": "2024-03-25T21:22:17.602766Z",
          "shell.execute_reply": "2024-03-25T21:22:17.662071Z"
        },
        "trusted": true,
        "id": "MLxqNlUvogyd"
      },
      "execution_count": null,
      "outputs": []
    },
    {
      "cell_type": "code",
      "source": [
        "#Tunning model\n",
        "params = {'C':np.logspace(-3, 3, 7), 'penalty': ['l1', 'l2'], 'max_iter':[200, 500, 1000]}\n",
        "gscv = GridSearchCV(lr, param_grid=params, cv=5, n_jobs=-1)\n",
        "gscv.fit(X_train, y_train)"
      ],
      "metadata": {
        "execution": {
          "iopub.status.busy": "2024-03-25T21:36:37.741509Z",
          "iopub.execute_input": "2024-03-25T21:36:37.741885Z",
          "iopub.status.idle": "2024-03-25T21:36:40.920974Z",
          "shell.execute_reply.started": "2024-03-25T21:36:37.741856Z",
          "shell.execute_reply": "2024-03-25T21:36:40.91934Z"
        },
        "trusted": true,
        "id": "GZOZuEI-ogyd"
      },
      "execution_count": null,
      "outputs": []
    },
    {
      "cell_type": "code",
      "source": [
        "results = pd.DataFrame(gscv.cv_results_)\n",
        "results.sort_values(by='rank_test_score').head(10)"
      ],
      "metadata": {
        "execution": {
          "iopub.status.busy": "2024-03-25T21:38:41.804542Z",
          "iopub.execute_input": "2024-03-25T21:38:41.804963Z",
          "iopub.status.idle": "2024-03-25T21:38:41.840841Z",
          "shell.execute_reply.started": "2024-03-25T21:38:41.804933Z",
          "shell.execute_reply": "2024-03-25T21:38:41.839722Z"
        },
        "trusted": true,
        "id": "ROafa-oNogyd"
      },
      "execution_count": null,
      "outputs": []
    },
    {
      "cell_type": "code",
      "source": [
        "gscv.best_estimator_.get_params()"
      ],
      "metadata": {
        "execution": {
          "iopub.status.busy": "2024-03-25T21:40:51.163181Z",
          "iopub.execute_input": "2024-03-25T21:40:51.163648Z",
          "iopub.status.idle": "2024-03-25T21:40:51.172789Z",
          "shell.execute_reply.started": "2024-03-25T21:40:51.163617Z",
          "shell.execute_reply": "2024-03-25T21:40:51.170796Z"
        },
        "trusted": true,
        "id": "YSJ5FxHPogyd"
      },
      "execution_count": null,
      "outputs": []
    },
    {
      "cell_type": "code",
      "source": [
        "lr_grid = LogisticRegression(C= 1.0,\n",
        " class_weight= None,\n",
        " dual= False,\n",
        " fit_intercept= True,\n",
        " intercept_scaling= 1,\n",
        " l1_ratio= None,\n",
        " max_iter= 200,\n",
        " multi_class= 'auto',\n",
        " n_jobs= None,\n",
        " penalty= 'l2',\n",
        " random_state= None,\n",
        " solver= 'lbfgs',\n",
        " tol= 0.0001,\n",
        " verbose= 0,\n",
        " warm_start= False)\n",
        "lr_grid.fit(X_train, y_train)"
      ],
      "metadata": {
        "execution": {
          "iopub.status.busy": "2024-03-25T21:45:11.337369Z",
          "iopub.execute_input": "2024-03-25T21:45:11.337799Z",
          "iopub.status.idle": "2024-03-25T21:45:11.388112Z",
          "shell.execute_reply.started": "2024-03-25T21:45:11.337769Z",
          "shell.execute_reply": "2024-03-25T21:45:11.386959Z"
        },
        "trusted": true,
        "id": "aFFP5PiIogyd"
      },
      "execution_count": null,
      "outputs": []
    },
    {
      "cell_type": "code",
      "source": [
        "lr_grid_pred = lr_grid.predict(X_test)\n",
        "print(f'Accuracy: {accuracy_score(y_test, lr_grid_pred):.2f}')\n",
        "print(f'Balanced Accuracy: {balanced_accuracy_score(y_test, lr_grid_pred):.2f}')\n",
        "print(f'F1 Score: {f1_score(y_test, lr_grid_pred):.2f}')\n",
        "print(f'ROC_AUC: {roc_auc_score(y_test, lr_grid_pred):.2f}')"
      ],
      "metadata": {
        "execution": {
          "iopub.status.busy": "2024-03-25T21:48:08.165424Z",
          "iopub.execute_input": "2024-03-25T21:48:08.165868Z",
          "iopub.status.idle": "2024-03-25T21:48:08.212098Z",
          "shell.execute_reply.started": "2024-03-25T21:48:08.165838Z",
          "shell.execute_reply": "2024-03-25T21:48:08.210905Z"
        },
        "trusted": true,
        "id": "S2nDPqmEogyd"
      },
      "execution_count": null,
      "outputs": []
    }
  ]
}